{
 "cells": [
  {
   "cell_type": "markdown",
   "metadata": {
    "_cell_guid": "b1076dfc-b9ad-4769-8c92-a6c4dae69d19",
    "_uuid": "8f2839f25d086af736a60e9eeb907d3b93b6e0e5",
    "trusted": true
   },
   "source": [
    " Here I imported necessary packages to read this data set as *pandas* Dataframe."
   ]
  },
  {
   "cell_type": "code",
   "execution_count": null,
   "metadata": {
    "_cell_guid": "79c7e3d0-c299-4dcb-8224-4455121ee9b0",
    "_kg_hide-output": true,
    "_uuid": "d629ff2d2480ee46fbb7e2d37f6b5fab8052498a",
    "trusted": true
   },
   "outputs": [
    {
     "name": "stdout",
     "output_type": "stream",
     "text": [
      "Fifty Shades Freed\n"
     ]
    }
   ],
   "source": [
    "import numpy as np\n",
    "import pandas as pd\n",
    "#import matplotlib.pyplot as plt\n",
    "import csv\n",
    "from sklearn import preprocessing\n",
    "import warnings\n",
    "warnings.filterwarnings(\"ignore\")\n",
    "#importing book dataset\n",
    "df = pd.read_csv(\"final.csv\")\n",
    "#taking input from user\n",
    "s=input()\n"
   ]
  },
  {
   "cell_type": "markdown",
   "metadata": {},
   "source": [
    "Here the name of book is taken as input for which we have to show recommendations."
   ]
  },
  {
   "cell_type": "code",
   "execution_count": 12,
   "metadata": {
    "trusted": true
   },
   "outputs": [],
   "source": [
    "df1 = df.drop('average_rating',axis=1)\n",
    "df1 = df1.drop('book_id',axis=1)\n",
    "df1['genre']\n",
    "df1.head()\n",
    "ot=list(df1['original_title'])\n",
    "df1.fillna('',inplace=True)\n",
    "#ot[14]"
   ]
  },
  {
   "cell_type": "markdown",
   "metadata": {},
   "source": []
  },
  {
   "cell_type": "code",
   "execution_count": 13,
   "metadata": {
    "_kg_hide-output": true,
    "_uuid": "7a0148ad85ec195c6db1a59b6bc9a09a4aad71e1",
    "trusted": true
   },
   "outputs": [],
   "source": [
    "a = df1['original_title']+' '+df1['authors']+' '+df1['genre']\n",
    "df1['all']=a\n",
    "b=list(df1['all'])\n",
    "u=ot.index(s)\n",
    "#u\n",
    "\n"
   ]
  },
  {
   "cell_type": "markdown",
   "metadata": {},
   "source": []
  },
  {
   "cell_type": "code",
   "execution_count": 14,
   "metadata": {
    "_uuid": "70077fcf1eabfe26e029b78b5d0245f229e62ac4",
    "scrolled": false,
    "trusted": true
   },
   "outputs": [],
   "source": [
    "from sklearn.feature_extraction.text import CountVectorizer\n",
    "corpus = [\n",
    "    'This is the first document.',\n",
    "    'This document is, the second document.',\n",
    "    'And this is the third one.',\n",
    "    'Is this the first document?',\n",
    "]\n",
    "vectorizer = CountVectorizer()\n",
    "X = vectorizer.fit_transform(b)\n",
    "#print(vectorizer.get_feature_names())\n",
    "#print(X)"
   ]
  },
  {
   "cell_type": "markdown",
   "metadata": {},
   "source": [
    "The CountVectorizer provides a simple way to both tokenize a collection of text documents and build a vocabulary of known words, but also to encode new documents using that vocabulary. "
   ]
  },
  {
   "cell_type": "code",
   "execution_count": null,
   "metadata": {
    "trusted": true
   },
   "outputs": [],
   "source": [
    "from sklearn.feature_extraction.text import TfidfVectorizer\n",
    "corpus = [\n",
    "    'This is the first document.',\n",
    "    'This document is the second document.',\n",
    "    'And this   is the third one.',\n",
    "    'Is this the first document?',\n",
    "]\n",
    "vectorizer = TfidfVectorizer()\n",
    "X = vectorizer.fit_transform(b)\n",
    "print(vectorizer.get_feature_names_out())"
   ]
  },
  {
   "cell_type": "markdown",
   "metadata": {},
   "source": [
    "TfidVectorizer reduces the overall weightage of each component"
   ]
  },
  {
   "cell_type": "code",
   "execution_count": 15,
   "metadata": {
    "trusted": true
   },
   "outputs": [],
   "source": [
    "\n",
    "from sklearn.metrics.pairwise import cosine_similarity\n",
    "cosinesim=cosine_similarity(X, X)\n",
    "#print(len(cosinesim))\n",
    "#cosinesim"
   ]
  },
  {
   "cell_type": "markdown",
   "metadata": {},
   "source": [
    "Cosine similarity is a metric used to measure how similar the documents are irrespective of their size. Mathematically, it measures the cosine of the angle between two vectors projected in a multi-dimensional space."
   ]
  },
  {
   "cell_type": "code",
   "execution_count": 16,
   "metadata": {
    "_kg_hide-output": true,
    "_uuid": "869abc236fbe39fcce685a5d758cefa3f6410687",
    "trusted": true
   },
   "outputs": [
    {
     "name": "stdout",
     "output_type": "stream",
     "text": [
      "Fifty Shades Darker\n",
      "Caliban's War\n",
      "I, Alex Cross\n",
      "The Black Dahlia\n",
      "My Friend Leonard\n",
      "When the Wind Blows\n",
      "10th Anniversary\n",
      "NYPD Red\n"
     ]
    }
   ],
   "source": [
    "\n",
    "q=[0,0,0,0,0,0,0,0]\n",
    "l = [0,0,0,0,0,0,0,0]\n",
    "for i in range(len(cosinesim[u])):  \n",
    "    if(cosinesim[u][i]>=0.99):\n",
    "        continue\n",
    "    elif l[0]<cosinesim[u][i] :\n",
    "        l[0] =cosinesim[u][i]\n",
    "        q[0]= ot[i]\n",
    "        #print(i,\"@\")\n",
    "    elif l[1]<cosinesim[u][i]:\n",
    "        l[1] = cosinesim[u][i]\n",
    "        q[1]=ot[i]\n",
    "        #print(i,\"#\")\n",
    "    elif l[2]<cosinesim[u][i]:\n",
    "        l[2] = cosinesim[u][i]\n",
    "        q[2]= ot[i]\n",
    "        #print(i,\"$\")\n",
    "    elif l[3]<cosinesim[u][i]:\n",
    "        l[3] = cosinesim[u][i]\n",
    "        q[3] = ot[i]\n",
    "    elif l[4]<cosinesim[u][i] :\n",
    "        l[4] =cosinesim[u][i]\n",
    "        q[4]= ot[i]\n",
    "        #print(i,\"@\")\n",
    "    elif l[5]<cosinesim[u][i]:\n",
    "        l[5] = cosinesim[u][i]\n",
    "        q[5]=ot[i]\n",
    "        #print(i,\"#\")\n",
    "    elif l[6]<cosinesim[u][i]:\n",
    "        l[6] = cosinesim[u][i]\n",
    "        q[6]= ot[i]\n",
    "        #print(i,\"$\")\n",
    "    elif l[7]<cosinesim[u][i]:\n",
    "        l[7] = cosinesim[u][i]\n",
    "        q[7] = ot[i]\n",
    "    else:\n",
    "        continue\n",
    "        #print(i,\"%\")\n",
    "for ele in q:\n",
    "    print(ele)\n",
    "#print(set(q))\n",
    "#print(l)"
   ]
  },
  {
   "cell_type": "markdown",
   "metadata": {},
   "source": [
    "Finally the list is displayed of recommended books."
   ]
  }
 ],
 "metadata": {
  "kernelspec": {
   "display_name": "Python 3",
   "language": "python",
   "name": "python3"
  },
  "language_info": {
   "codemirror_mode": {
    "name": "ipython",
    "version": 3
   },
   "file_extension": ".py",
   "mimetype": "text/x-python",
   "name": "python",
   "nbconvert_exporter": "python",
   "pygments_lexer": "ipython3",
   "version": "3.6.6"
  }
 },
 "nbformat": 4,
 "nbformat_minor": 1
}
